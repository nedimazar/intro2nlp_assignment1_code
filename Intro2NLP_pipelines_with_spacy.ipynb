{
 "cells": [
  {
   "cell_type": "markdown",
   "metadata": {},
   "source": [
    "# Introduction to NLP\n",
    "\n",
    "# Lab 1: Pipelines with spaCy\n",
    "\n",
    "Copyright, Vrije Universiteit Amsterdam, Faculty of Humanities, CLTL\n",
    "This notebook is based on an earlier version developed by Piek Vossen and Selene Baez. The [original version](https://github.com/cltl/ma-hlt-labs/blame/master/lab1.toolkits/Lab1.3-introduction-to-spaCy.ipynb) is more detailed and might be helpful if you have limited programming experience.\n",
    "\n",
    "[SpaCy](https://spacy.io/) combines multiple natural language processing analyses in a single Python package: it takes a raw document and can perform tokenization, POS-tagging, stop word recognition, morphological analysis, lemmatization, sentence splitting, dependency parsing and Named Entity Recognition (NER). The advantage of spaCy is that it is really fast, and it has a good accuracy. In addition, it currently supports multiple languages, among which: English, German, Spanish, Portuguese, French, Italian and Dutch. Other popular Python packages are [nltk](https://www.nltk.org/) and [stanza](https://stanfordnlp.github.io/stanza/).\n",
    "\n",
    "In this notebook, we will show you the basic usage of spaCy. Please additionally check the [user guides](https://spacy.io/usage/linguistic-features) and the documentation of the [models](https://spacy.io/models) for details.  \n"
   ]
  },
  {
   "cell_type": "markdown",
   "metadata": {},
   "source": [
    "## Installing and loading spaCy\n",
    "\n",
    "To install spaCy, check out the instructions [here](https://spacy.io/usage). On this page, it is explained exactly how to install spaCy for your operating system, package manager and desired languages. Simply run the suggested commands in your terminal ([Anaconda Prompt](https://docs.anaconda.com/anaconda/user-guide/getting-started/) or cmd). In this notebook, we are going to download the English language resources. The standard download command from the command line is the following:"
   ]
  },
  {
   "cell_type": "code",
   "execution_count": null,
   "metadata": {},
   "outputs": [],
   "source": [
    "%%bash\n",
    "python -m spacy download en"
   ]
  },
  {
   "cell_type": "markdown",
   "metadata": {},
   "source": [
    "Now, let's first load spaCy in the notebook and check if we can load the English language resources. We import the spaCy module and load the English tokenizer, tagger, parser, NER, and word vectors."
   ]
  },
  {
   "cell_type": "code",
   "execution_count": null,
   "metadata": {},
   "outputs": [],
   "source": [
    "import spacy\n",
    "\n",
    "# This loads a small English model trained on web data.\n",
    "# For other models and languages check: https://spacy.io/models\n",
    "nlp = spacy.load('en_core_web_sm')"
   ]
  },
  {
   "cell_type": "markdown",
   "metadata": {},
   "source": [
    "## Using spaCy\n",
    "\n",
    "If you succesfully loaded the English model (or another language), you now created the spaCy object 'nlp'. You can use it to process text through a defined pipeline of modules and store the result as a value for another variable for accessing it. The results is another spaCy object of the type 'Doc' which gives you access to all the different analyses of the pipeline through different functions. In a Doc object you can access tokens, their lemmas, their PoS, sentences, chunks, named entities, etc.\n"
   ]
  },
  {
   "cell_type": "code",
   "execution_count": null,
   "metadata": {},
   "outputs": [],
   "source": [
    "test_input = \"I have an awesome cat. It's sitting on the mat that I bought yesterday.\"\n",
    "# Let's run the NLP pipeline on our test input\n",
    "doc = nlp(test_input)"
   ]
  },
  {
   "cell_type": "markdown",
   "metadata": {},
   "source": [
    "### 1. Tokenization\n",
    "The basic unit in NLP is usually the token. Let's examine how spaCy tokenizes the input. \n",
    "Note that punctuation is treated as a separate token and check how \"It's\" is tokenized. **Try a few other test inputs to better understand the concept of a token.**"
   ]
  },
  {
   "cell_type": "code",
   "execution_count": null,
   "metadata": {},
   "outputs": [],
   "source": [
    "for token in doc:\n",
    "    print(token.i, token, token.idx)\n",
    "print()"
   ]
  },
  {
   "cell_type": "markdown",
   "metadata": {},
   "source": [
    "In addition, spaCy provides sentence segmentation by grouping tokens together. **Try different test inputs to analyze the quality of the sentence segmentation.**"
   ]
  },
  {
   "cell_type": "code",
   "execution_count": null,
   "metadata": {},
   "outputs": [],
   "source": [
    "sentences = doc.sents\n",
    "for sentence in sentences:\n",
    "    print()\n",
    "    print(sentence)\n",
    "    for token in sentence:\n",
    "        print(token.text)"
   ]
  },
  {
   "cell_type": "markdown",
   "metadata": {},
   "source": [
    "### 2. Lemmatization\n",
    "The Token object contains much more information than just the String representing the word. For example, you can access the lemma of each token. Note, that spaCy delivers a good accuracy, but it does make mistakes. **Make sure you understand the difference between a token and a lemma. Try out a few tricky cases as test input to analyze the quality of the lemmatizer.**"
   ]
  },
  {
   "cell_type": "code",
   "execution_count": null,
   "metadata": {},
   "outputs": [],
   "source": [
    "for token in doc:\n",
    "    print(token.text, token.lemma_)"
   ]
  },
  {
   "cell_type": "markdown",
   "metadata": {},
   "source": [
    "### 3. POS-Tagging\n",
    "A part-of-speech tagger assigns a word class to each token. The number of word classes depends on the tagset that the model uses. The most simplistic tags are the [universal POS-tags](https://universaldependencies.org/u/pos/all.html). Most models use more complex tagsets, but they also provide a mapping into the universal POS tags. SpaCy provides both: \n",
    "\n",
    "* the attribute **pos_** returns the universal part-of-speech tag\n",
    "* the attribute **tag_** provides a more finegrained tag\n",
    "\n",
    "The English model uses the [Penn Treebank POS tagset](https://www.ling.upenn.edu/courses/Fall_2003/ling001/penn_treebank_pos.html))"
   ]
  },
  {
   "cell_type": "code",
   "execution_count": null,
   "metadata": {},
   "outputs": [],
   "source": [
    "for token in doc:\n",
    "    print(token.text, token.pos_, token.tag_)"
   ]
  },
  {
   "cell_type": "markdown",
   "metadata": {},
   "source": [
    "Make sure you understand the different tag labels. SpaCy provides a short explanation, but you also need to check the documentation and the reading material. **Find examples for words that can be assigned different POS-tags depending on the context.**"
   ]
  },
  {
   "cell_type": "code",
   "execution_count": null,
   "metadata": {},
   "outputs": [],
   "source": [
    "spacy.explain(\"VBD\")"
   ]
  },
  {
   "cell_type": "markdown",
   "metadata": {},
   "source": [
    "The `Token` objects have many more useful methods and attributes. List them using the Python function `dir()`. You can find more detailed information about the token methods and attributes in the [documentation](https://spacy.io/api/token)."
   ]
  },
  {
   "cell_type": "code",
   "execution_count": null,
   "metadata": {},
   "outputs": [],
   "source": [
    "first_token = doc[0]\n",
    "dir(first_token)"
   ]
  },
  {
   "cell_type": "markdown",
   "metadata": {},
   "source": [
    "Note that the attributes without `_` return numerical values which spaCy uses internally. Variants with `_` provide the human readable rendering of the value in unicode. **Explore some of the attributes and test them for different tokens.** "
   ]
  },
  {
   "cell_type": "code",
   "execution_count": null,
   "metadata": {},
   "outputs": [],
   "source": [
    "print(first_token.tag, first_token.tag_)"
   ]
  },
  {
   "cell_type": "markdown",
   "metadata": {},
   "source": [
    "### 4. Named Entity Recognition\n",
    "\"A named entity is a “real-world object” that is assigned a name – for example, a person, a country, a product or a book title. spaCy can recognize various types of named entities in a document, by asking the model for a prediction. Because models are statistical and strongly depend on the examples they were trained on, this doesn’t always work perfectly and might need some tuning later, depending on your use case.\" [[spaCy documentation]](https://spacy.io/usage/linguistic-features#named-entities)\n",
    "\n",
    "Explore the named entities in the example below. "
   ]
  },
  {
   "cell_type": "code",
   "execution_count": null,
   "metadata": {},
   "outputs": [],
   "source": [
    "text = \"But Google is starting from behind. The company made a late push into hardware, and Apple’s Siri, available on iPhones, and Amazon’s Alexa software, which runs on its Echo and Dot devices, have clear leads in consumer adoption.\"\"\"\n",
    "doc = nlp(text)"
   ]
  },
  {
   "cell_type": "code",
   "execution_count": null,
   "metadata": {},
   "outputs": [],
   "source": [
    "for ent in doc.ents:\n",
    "    print(ent.text, ent.label_)"
   ]
  },
  {
   "cell_type": "code",
   "execution_count": null,
   "metadata": {},
   "outputs": [],
   "source": [
    "# Displacy provides nice visualizations of spaCy annotations https://spacy.io/usage/visualizers\n",
    "from spacy import displacy\n",
    "displacy.render(doc, jupyter=True, style='ent')"
   ]
  },
  {
   "cell_type": "markdown",
   "metadata": {},
   "source": [
    "The English model is trained on a dataset called *OntoNotes* (version 5). **How many different named entity types are annotated in this dataset? Have a look at the [documentation](https://catalog.ldc.upenn.edu/docs/LDC2013T19/OntoNotes-Release-5.0.pdf).**"
   ]
  },
  {
   "cell_type": "markdown",
   "metadata": {},
   "source": [
    "### 5. Calculating frequencies\n",
    "A common analysis step for language corpora is the extraction of frequency statistics. We provide an example to extract token frequencies, but you can also calculate frequencies over lemmas, n-grams, POS-labels, ...\n",
    "\n",
    "We calculate the statistics over a single input in this example. Usually, you would calculate them over all documents in a dataset. **How do you need to adjust the code to achieve this?** "
   ]
  },
  {
   "cell_type": "code",
   "execution_count": null,
   "metadata": {},
   "outputs": [],
   "source": [
    "from collections import Counter\n",
    "\n",
    "# Our test input is the first paragraph of https://spacy.io/usage/linguistic-features\n",
    "test_input = \"Processing raw text intelligently is difficult: most words are rare, and it’s common for words that look completely different to mean almost the same thing. The same words in a different order can mean something completely different. Even splitting text into useful word-like units can be difficult in many languages. While it’s possible to solve some problems starting from only the raw characters, it’s usually better to use linguistic knowledge to add useful information. That’s exactly what spaCy is designed to do: you put in raw text, and get back a Doc object, that comes with a variety of annotations.\"\n",
    "# Let's run the NLP pipeline on our test input\n",
    "doc = nlp(test_input)\n",
    "\n",
    "word_frequencies = Counter()\n",
    "\n",
    "for sentence in doc.sents:\n",
    "    words = []\n",
    "    for token in sentence: \n",
    "        # Let's filter out punctuation\n",
    "        if not token.is_punct:\n",
    "            words.append(token.text)\n",
    "    word_frequencies.update(words)\n",
    "    \n",
    "print(word_frequencies)"
   ]
  },
  {
   "cell_type": "code",
   "execution_count": null,
   "metadata": {},
   "outputs": [],
   "source": [
    "num_tokens = len(doc)\n",
    "num_words = sum(word_frequencies.values())\n",
    "num_types = len(word_frequencies.keys())\n",
    "\n",
    "print(num_tokens, num_words, num_types)"
   ]
  }
 ],
 "metadata": {
  "anaconda-cloud": {},
  "kernelspec": {
   "display_name": "Python 3",
   "language": "python",
   "name": "python3"
  },
  "language_info": {
   "codemirror_mode": {
    "name": "ipython",
    "version": 3
   },
   "file_extension": ".py",
   "mimetype": "text/x-python",
   "name": "python",
   "nbconvert_exporter": "python",
   "pygments_lexer": "ipython3",
   "version": "3.7.7"
  }
 },
 "nbformat": 4,
 "nbformat_minor": 4
}